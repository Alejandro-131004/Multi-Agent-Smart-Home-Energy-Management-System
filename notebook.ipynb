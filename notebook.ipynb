{
 "cells": [
  {
   "cell_type": "markdown",
   "metadata": {},
   "source": [
    "### Este notebook é apenas para nos organizarmos melhor na estrutura do codigo e com os csvs."
   ]
  },
  {
   "cell_type": "code",
   "execution_count": 12,
   "metadata": {},
   "outputs": [],
   "source": [
    "import pandas as pd"
   ]
  },
  {
   "cell_type": "code",
   "execution_count": 9,
   "metadata": {},
   "outputs": [
    {
     "name": "stdout",
     "output_type": "stream",
     "text": [
      "                        time  generation biomass  \\\n",
      "0  2015-01-01 00:00:00+01:00               447.0   \n",
      "1  2015-01-01 01:00:00+01:00               449.0   \n",
      "2  2015-01-01 02:00:00+01:00               448.0   \n",
      "3  2015-01-01 03:00:00+01:00               438.0   \n",
      "4  2015-01-01 04:00:00+01:00               428.0   \n",
      "\n",
      "   generation fossil brown coal/lignite  generation fossil coal-derived gas  \\\n",
      "0                                 329.0                                 0.0   \n",
      "1                                 328.0                                 0.0   \n",
      "2                                 323.0                                 0.0   \n",
      "3                                 254.0                                 0.0   \n",
      "4                                 187.0                                 0.0   \n",
      "\n",
      "   generation fossil gas  generation fossil hard coal  generation fossil oil  \\\n",
      "0                 4844.0                       4821.0                  162.0   \n",
      "1                 5196.0                       4755.0                  158.0   \n",
      "2                 4857.0                       4581.0                  157.0   \n",
      "3                 4314.0                       4131.0                  160.0   \n",
      "4                 4130.0                       3840.0                  156.0   \n",
      "\n",
      "   generation fossil oil shale  generation fossil peat  generation geothermal  \\\n",
      "0                          0.0                     0.0                    0.0   \n",
      "1                          0.0                     0.0                    0.0   \n",
      "2                          0.0                     0.0                    0.0   \n",
      "3                          0.0                     0.0                    0.0   \n",
      "4                          0.0                     0.0                    0.0   \n",
      "\n",
      "   ...  generation waste  generation wind offshore  generation wind onshore  \\\n",
      "0  ...             196.0                       0.0                   6378.0   \n",
      "1  ...             195.0                       0.0                   5890.0   \n",
      "2  ...             196.0                       0.0                   5461.0   \n",
      "3  ...             191.0                       0.0                   5238.0   \n",
      "4  ...             189.0                       0.0                   4935.0   \n",
      "\n",
      "   forecast solar day ahead  forecast wind offshore eday ahead  \\\n",
      "0                      17.0                                NaN   \n",
      "1                      16.0                                NaN   \n",
      "2                       8.0                                NaN   \n",
      "3                       2.0                                NaN   \n",
      "4                       9.0                                NaN   \n",
      "\n",
      "   forecast wind onshore day ahead  total load forecast  total load actual  \\\n",
      "0                           6436.0              26118.0            25385.0   \n",
      "1                           5856.0              24934.0            24382.0   \n",
      "2                           5454.0              23515.0            22734.0   \n",
      "3                           5151.0              22642.0            21286.0   \n",
      "4                           4861.0              21785.0            20264.0   \n",
      "\n",
      "   price day ahead  price actual  \n",
      "0            50.10         65.41  \n",
      "1            48.10         64.92  \n",
      "2            47.33         64.48  \n",
      "3            42.27         59.32  \n",
      "4            38.41         56.04  \n",
      "\n",
      "[5 rows x 29 columns]\n"
     ]
    }
   ],
   "source": [
    "df_energy = pd.read_csv('energy_dataset.csv')\n",
    "print(df_energy.head())"
   ]
  },
  {
   "cell_type": "code",
   "execution_count": 10,
   "metadata": {},
   "outputs": [],
   "source": [
    "irrelevant_columns = [\n",
    "    'generation biomass',\n",
    "    'generation fossil brown coal/lignite',\n",
    "    'generation fossil coal-derived gas',\n",
    "    'generation fossil gas',\n",
    "    'generation fossil hard coal',\n",
    "    'generation fossil oil',\n",
    "    'generation fossil oil shale',\n",
    "    'generation fossil peat',\n",
    "    'generation geothermal',\n",
    "    'generation hydro pumped storage aggregated',\n",
    "    'generation hydro pumped storage consumption',\n",
    "    'generation hydro run-of-river and poundage',\n",
    "    'generation hydro water reservoir',\n",
    "    'generation marine',\n",
    "    'generation nuclear',\n",
    "    'generation other',\n",
    "    'generation other renewable',\n",
    "    'generation waste'\n",
    "]\n",
    "\n",
    "df_energy_cleaned = df_energy.drop(columns=irrelevant_columns, errors='ignore')\n"
   ]
  },
  {
   "cell_type": "code",
   "execution_count": 4,
   "metadata": {},
   "outputs": [
    {
     "name": "stdout",
     "output_type": "stream",
     "text": [
      "                        time  generation solar  generation wind offshore  \\\n",
      "0  2015-01-01 00:00:00+01:00              49.0                       0.0   \n",
      "1  2015-01-01 01:00:00+01:00              50.0                       0.0   \n",
      "2  2015-01-01 02:00:00+01:00              50.0                       0.0   \n",
      "3  2015-01-01 03:00:00+01:00              50.0                       0.0   \n",
      "4  2015-01-01 04:00:00+01:00              42.0                       0.0   \n",
      "\n",
      "   generation wind onshore  forecast solar day ahead  \\\n",
      "0                   6378.0                      17.0   \n",
      "1                   5890.0                      16.0   \n",
      "2                   5461.0                       8.0   \n",
      "3                   5238.0                       2.0   \n",
      "4                   4935.0                       9.0   \n",
      "\n",
      "   forecast wind offshore eday ahead  forecast wind onshore day ahead  \\\n",
      "0                                NaN                           6436.0   \n",
      "1                                NaN                           5856.0   \n",
      "2                                NaN                           5454.0   \n",
      "3                                NaN                           5151.0   \n",
      "4                                NaN                           4861.0   \n",
      "\n",
      "   total load forecast  total load actual  price day ahead  price actual  \n",
      "0              26118.0            25385.0            50.10         65.41  \n",
      "1              24934.0            24382.0            48.10         64.92  \n",
      "2              23515.0            22734.0            47.33         64.48  \n",
      "3              22642.0            21286.0            42.27         59.32  \n",
      "4              21785.0            20264.0            38.41         56.04  \n"
     ]
    }
   ],
   "source": [
    "print(df_energy_cleaned.head())"
   ]
  },
  {
   "cell_type": "code",
   "execution_count": 7,
   "metadata": {},
   "outputs": [
    {
     "name": "stdout",
     "output_type": "stream",
     "text": [
      "                      dt_iso city_name     temp  temp_min  temp_max  pressure  \\\n",
      "0  2015-01-01 00:00:00+01:00  Valencia  270.475   270.475   270.475      1001   \n",
      "1  2015-01-01 01:00:00+01:00  Valencia  270.475   270.475   270.475      1001   \n",
      "2  2015-01-01 02:00:00+01:00  Valencia  269.686   269.686   269.686      1002   \n",
      "3  2015-01-01 03:00:00+01:00  Valencia  269.686   269.686   269.686      1002   \n",
      "4  2015-01-01 04:00:00+01:00  Valencia  269.686   269.686   269.686      1002   \n",
      "\n",
      "   humidity  wind_speed  wind_deg  rain_1h  rain_3h  snow_3h  clouds_all  \\\n",
      "0        77           1        62      0.0      0.0      0.0           0   \n",
      "1        77           1        62      0.0      0.0      0.0           0   \n",
      "2        78           0        23      0.0      0.0      0.0           0   \n",
      "3        78           0        23      0.0      0.0      0.0           0   \n",
      "4        78           0        23      0.0      0.0      0.0           0   \n",
      "\n",
      "   weather_id weather_main weather_description weather_icon  \n",
      "0         800        clear        sky is clear          01n  \n",
      "1         800        clear        sky is clear          01n  \n",
      "2         800        clear        sky is clear          01n  \n",
      "3         800        clear        sky is clear          01n  \n",
      "4         800        clear        sky is clear          01n  \n"
     ]
    }
   ],
   "source": [
    "df_weather = pd.read_csv('weather_features.csv')\n",
    "print(df_weather.head())"
   ]
  },
  {
   "cell_type": "code",
   "execution_count": 8,
   "metadata": {},
   "outputs": [],
   "source": [
    "irrelevant_columns_weather = [\n",
    "    'rain_1h', \n",
    "    'rain_3h', \n",
    "    'snow_3h', \n",
    "    'weather_id', \n",
    "    'weather_icon'\n",
    "]\n",
    "\n",
    "df_weather_cleaned = df_weather.drop(columns=irrelevant_columns_weather, errors='ignore')\n"
   ]
  },
  {
   "cell_type": "code",
   "execution_count": 11,
   "metadata": {},
   "outputs": [
    {
     "name": "stdout",
     "output_type": "stream",
     "text": [
      "                      dt_iso city_name     temp  temp_min  temp_max  pressure  \\\n",
      "0  2015-01-01 00:00:00+01:00  Valencia  270.475   270.475   270.475      1001   \n",
      "1  2015-01-01 01:00:00+01:00  Valencia  270.475   270.475   270.475      1001   \n",
      "2  2015-01-01 02:00:00+01:00  Valencia  269.686   269.686   269.686      1002   \n",
      "3  2015-01-01 03:00:00+01:00  Valencia  269.686   269.686   269.686      1002   \n",
      "4  2015-01-01 04:00:00+01:00  Valencia  269.686   269.686   269.686      1002   \n",
      "\n",
      "   humidity  wind_speed  wind_deg  clouds_all weather_main weather_description  \n",
      "0        77           1        62           0        clear        sky is clear  \n",
      "1        77           1        62           0        clear        sky is clear  \n",
      "2        78           0        23           0        clear        sky is clear  \n",
      "3        78           0        23           0        clear        sky is clear  \n",
      "4        78           0        23           0        clear        sky is clear  \n"
     ]
    }
   ],
   "source": [
    "print(df_weather_cleaned.head())\n"
   ]
  },
  {
   "cell_type": "code",
   "execution_count": null,
   "metadata": {},
   "outputs": [],
   "source": []
  }
 ],
 "metadata": {
  "kernelspec": {
   "display_name": "Python 3",
   "language": "python",
   "name": "python3"
  },
  "language_info": {
   "codemirror_mode": {
    "name": "ipython",
    "version": 3
   },
   "file_extension": ".py",
   "mimetype": "text/x-python",
   "name": "python",
   "nbconvert_exporter": "python",
   "pygments_lexer": "ipython3",
   "version": "3.12.6"
  }
 },
 "nbformat": 4,
 "nbformat_minor": 2
}
